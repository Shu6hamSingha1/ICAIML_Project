{
 "cells": [
  {
   "cell_type": "code",
   "execution_count": 1,
   "metadata": {},
   "outputs": [],
   "source": [
    "# Importing all the libraries used for Data Analysis and Data Visualization.\n",
    "# Importing OS to call the files used for training and validating the model.\n",
    "\n",
    "import matplotlib.pyplot as plt\n",
    "import numpy as np\n",
    "import pandas as pd \n",
    "import os\n",
    "import shutil"
   ]
  },
  {
   "cell_type": "code",
   "execution_count": 2,
   "metadata": {},
   "outputs": [],
   "source": [
    "# Extracting Train set\n",
    "search_folder_dir = \"../AffectNet/train_set/images\"\n",
    "save_folder_dir = \"../FER_Dataset/train\"\n",
    "\n",
    "# # Extracting test set\n",
    "# search_folder_dir = \"../AffectNet/val_set/images\"\n",
    "# save_folder_dir = \"../FER_Dataset/test\""
   ]
  },
  {
   "cell_type": "code",
   "execution_count": 3,
   "metadata": {},
   "outputs": [],
   "source": [
    "emotion_dict = {0: 'Neutral',\n",
    "                1: 'Happy', \n",
    "                2: 'Sad', \n",
    "                3: 'Surprise', \n",
    "                4: 'Fear', \n",
    "                5: 'Disgust', \n",
    "                6: 'Angry',\n",
    "                7: 'Contempt', \n",
    "                8: 'None', \n",
    "                9: 'Uncertain', \n",
    "                10: 'No-Face'\n",
    "                }"
   ]
  },
  {
   "cell_type": "code",
   "execution_count": 5,
   "metadata": {},
   "outputs": [],
   "source": [
    "for file in os.listdir(search_folder_dir):\n",
    "    imgID = file.split(\".jpg\")[0]\n",
    "    expID = np.load(os.path.join(search_folder_dir,'../annotations/',imgID+'_exp.npy'))\n",
    "    folder = emotion_dict[int(expID)]\n",
    "    shutil.copy(os.path.join(search_folder_dir, file), os.path.join(save_folder_dir, folder))"
   ]
  },
  {
   "cell_type": "code",
   "execution_count": null,
   "metadata": {},
   "outputs": [],
   "source": []
  }
 ],
 "metadata": {
  "kernelspec": {
   "display_name": "Python 3.8.10 ('.penv': venv)",
   "language": "python",
   "name": "python3"
  },
  "language_info": {
   "codemirror_mode": {
    "name": "ipython",
    "version": 3
   },
   "file_extension": ".py",
   "mimetype": "text/x-python",
   "name": "python",
   "nbconvert_exporter": "python",
   "pygments_lexer": "ipython3",
   "version": "3.8.10"
  },
  "orig_nbformat": 4,
  "vscode": {
   "interpreter": {
    "hash": "9537a14816646008bad20fe5e2781a180e99acdbc95af8d95a32fd85d05716ba"
   }
  }
 },
 "nbformat": 4,
 "nbformat_minor": 2
}
